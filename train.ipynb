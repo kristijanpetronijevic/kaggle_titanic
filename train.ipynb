{
 "cells": [
  {
   "cell_type": "code",
   "execution_count": 1,
   "id": "92080fac-a48f-406b-91bb-e056f983765e",
   "metadata": {},
   "outputs": [],
   "source": [
    "import pandas as pd\n",
    "import numpy as np"
   ]
  },
  {
   "cell_type": "code",
   "execution_count": 2,
   "id": "94321582-6f50-4402-b7b9-203eed49c5e2",
   "metadata": {},
   "outputs": [],
   "source": [
    "data_frame = pd.read_csv(\"./train.csv\")"
   ]
  },
  {
   "cell_type": "code",
   "execution_count": 3,
   "id": "2062c87a-fa16-4e41-a439-c753cb93cdc7",
   "metadata": {},
   "outputs": [
    {
     "data": {
      "text/html": [
       "<div>\n",
       "<style scoped>\n",
       "    .dataframe tbody tr th:only-of-type {\n",
       "        vertical-align: middle;\n",
       "    }\n",
       "\n",
       "    .dataframe tbody tr th {\n",
       "        vertical-align: top;\n",
       "    }\n",
       "\n",
       "    .dataframe thead th {\n",
       "        text-align: right;\n",
       "    }\n",
       "</style>\n",
       "<table border=\"1\" class=\"dataframe\">\n",
       "  <thead>\n",
       "    <tr style=\"text-align: right;\">\n",
       "      <th></th>\n",
       "      <th>PassengerId</th>\n",
       "      <th>Survived</th>\n",
       "      <th>Pclass</th>\n",
       "      <th>Name</th>\n",
       "      <th>Sex</th>\n",
       "      <th>Age</th>\n",
       "      <th>SibSp</th>\n",
       "      <th>Parch</th>\n",
       "      <th>Ticket</th>\n",
       "      <th>Fare</th>\n",
       "      <th>Cabin</th>\n",
       "      <th>Embarked</th>\n",
       "    </tr>\n",
       "  </thead>\n",
       "  <tbody>\n",
       "    <tr>\n",
       "      <th>0</th>\n",
       "      <td>1</td>\n",
       "      <td>0</td>\n",
       "      <td>3</td>\n",
       "      <td>Braund, Mr. Owen Harris</td>\n",
       "      <td>male</td>\n",
       "      <td>22.0</td>\n",
       "      <td>1</td>\n",
       "      <td>0</td>\n",
       "      <td>A/5 21171</td>\n",
       "      <td>7.2500</td>\n",
       "      <td>NaN</td>\n",
       "      <td>S</td>\n",
       "    </tr>\n",
       "    <tr>\n",
       "      <th>1</th>\n",
       "      <td>2</td>\n",
       "      <td>1</td>\n",
       "      <td>1</td>\n",
       "      <td>Cumings, Mrs. John Bradley (Florence Briggs Th...</td>\n",
       "      <td>female</td>\n",
       "      <td>38.0</td>\n",
       "      <td>1</td>\n",
       "      <td>0</td>\n",
       "      <td>PC 17599</td>\n",
       "      <td>71.2833</td>\n",
       "      <td>C85</td>\n",
       "      <td>C</td>\n",
       "    </tr>\n",
       "    <tr>\n",
       "      <th>2</th>\n",
       "      <td>3</td>\n",
       "      <td>1</td>\n",
       "      <td>3</td>\n",
       "      <td>Heikkinen, Miss. Laina</td>\n",
       "      <td>female</td>\n",
       "      <td>26.0</td>\n",
       "      <td>0</td>\n",
       "      <td>0</td>\n",
       "      <td>STON/O2. 3101282</td>\n",
       "      <td>7.9250</td>\n",
       "      <td>NaN</td>\n",
       "      <td>S</td>\n",
       "    </tr>\n",
       "    <tr>\n",
       "      <th>3</th>\n",
       "      <td>4</td>\n",
       "      <td>1</td>\n",
       "      <td>1</td>\n",
       "      <td>Futrelle, Mrs. Jacques Heath (Lily May Peel)</td>\n",
       "      <td>female</td>\n",
       "      <td>35.0</td>\n",
       "      <td>1</td>\n",
       "      <td>0</td>\n",
       "      <td>113803</td>\n",
       "      <td>53.1000</td>\n",
       "      <td>C123</td>\n",
       "      <td>S</td>\n",
       "    </tr>\n",
       "    <tr>\n",
       "      <th>4</th>\n",
       "      <td>5</td>\n",
       "      <td>0</td>\n",
       "      <td>3</td>\n",
       "      <td>Allen, Mr. William Henry</td>\n",
       "      <td>male</td>\n",
       "      <td>35.0</td>\n",
       "      <td>0</td>\n",
       "      <td>0</td>\n",
       "      <td>373450</td>\n",
       "      <td>8.0500</td>\n",
       "      <td>NaN</td>\n",
       "      <td>S</td>\n",
       "    </tr>\n",
       "  </tbody>\n",
       "</table>\n",
       "</div>"
      ],
      "text/plain": [
       "   PassengerId  Survived  Pclass  \\\n",
       "0            1         0       3   \n",
       "1            2         1       1   \n",
       "2            3         1       3   \n",
       "3            4         1       1   \n",
       "4            5         0       3   \n",
       "\n",
       "                                                Name     Sex   Age  SibSp  \\\n",
       "0                            Braund, Mr. Owen Harris    male  22.0      1   \n",
       "1  Cumings, Mrs. John Bradley (Florence Briggs Th...  female  38.0      1   \n",
       "2                             Heikkinen, Miss. Laina  female  26.0      0   \n",
       "3       Futrelle, Mrs. Jacques Heath (Lily May Peel)  female  35.0      1   \n",
       "4                           Allen, Mr. William Henry    male  35.0      0   \n",
       "\n",
       "   Parch            Ticket     Fare Cabin Embarked  \n",
       "0      0         A/5 21171   7.2500   NaN        S  \n",
       "1      0          PC 17599  71.2833   C85        C  \n",
       "2      0  STON/O2. 3101282   7.9250   NaN        S  \n",
       "3      0            113803  53.1000  C123        S  \n",
       "4      0            373450   8.0500   NaN        S  "
      ]
     },
     "execution_count": 3,
     "metadata": {},
     "output_type": "execute_result"
    }
   ],
   "source": [
    "data_frame.head()"
   ]
  },
  {
   "cell_type": "markdown",
   "id": "1e0e66b4-cc26-41f0-9f76-530f510c06db",
   "metadata": {},
   "source": [
    "**We are going to use the DecisionTree model; however, this model cannot work with strings, so we need to transform strings into float numbers using a \"std\" function down in code.**"
   ]
  },
  {
   "cell_type": "code",
   "execution_count": 4,
   "id": "e5ac94e9-216c-495b-99fe-dfaa9d0b4bef",
   "metadata": {},
   "outputs": [
    {
     "data": {
      "text/html": [
       "<div>\n",
       "<style scoped>\n",
       "    .dataframe tbody tr th:only-of-type {\n",
       "        vertical-align: middle;\n",
       "    }\n",
       "\n",
       "    .dataframe tbody tr th {\n",
       "        vertical-align: top;\n",
       "    }\n",
       "\n",
       "    .dataframe thead th {\n",
       "        text-align: right;\n",
       "    }\n",
       "</style>\n",
       "<table border=\"1\" class=\"dataframe\">\n",
       "  <thead>\n",
       "    <tr style=\"text-align: right;\">\n",
       "      <th></th>\n",
       "      <th>PassengerId</th>\n",
       "      <th>Survived</th>\n",
       "      <th>Pclass</th>\n",
       "      <th>Age</th>\n",
       "      <th>SibSp</th>\n",
       "      <th>Parch</th>\n",
       "      <th>Fare</th>\n",
       "    </tr>\n",
       "  </thead>\n",
       "  <tbody>\n",
       "    <tr>\n",
       "      <th>count</th>\n",
       "      <td>891.000000</td>\n",
       "      <td>891.000000</td>\n",
       "      <td>891.000000</td>\n",
       "      <td>714.000000</td>\n",
       "      <td>891.000000</td>\n",
       "      <td>891.000000</td>\n",
       "      <td>891.000000</td>\n",
       "    </tr>\n",
       "    <tr>\n",
       "      <th>mean</th>\n",
       "      <td>446.000000</td>\n",
       "      <td>0.383838</td>\n",
       "      <td>2.308642</td>\n",
       "      <td>29.699118</td>\n",
       "      <td>0.523008</td>\n",
       "      <td>0.381594</td>\n",
       "      <td>32.204208</td>\n",
       "    </tr>\n",
       "    <tr>\n",
       "      <th>std</th>\n",
       "      <td>257.353842</td>\n",
       "      <td>0.486592</td>\n",
       "      <td>0.836071</td>\n",
       "      <td>14.526497</td>\n",
       "      <td>1.102743</td>\n",
       "      <td>0.806057</td>\n",
       "      <td>49.693429</td>\n",
       "    </tr>\n",
       "    <tr>\n",
       "      <th>min</th>\n",
       "      <td>1.000000</td>\n",
       "      <td>0.000000</td>\n",
       "      <td>1.000000</td>\n",
       "      <td>0.420000</td>\n",
       "      <td>0.000000</td>\n",
       "      <td>0.000000</td>\n",
       "      <td>0.000000</td>\n",
       "    </tr>\n",
       "    <tr>\n",
       "      <th>25%</th>\n",
       "      <td>223.500000</td>\n",
       "      <td>0.000000</td>\n",
       "      <td>2.000000</td>\n",
       "      <td>20.125000</td>\n",
       "      <td>0.000000</td>\n",
       "      <td>0.000000</td>\n",
       "      <td>7.910400</td>\n",
       "    </tr>\n",
       "    <tr>\n",
       "      <th>50%</th>\n",
       "      <td>446.000000</td>\n",
       "      <td>0.000000</td>\n",
       "      <td>3.000000</td>\n",
       "      <td>28.000000</td>\n",
       "      <td>0.000000</td>\n",
       "      <td>0.000000</td>\n",
       "      <td>14.454200</td>\n",
       "    </tr>\n",
       "    <tr>\n",
       "      <th>75%</th>\n",
       "      <td>668.500000</td>\n",
       "      <td>1.000000</td>\n",
       "      <td>3.000000</td>\n",
       "      <td>38.000000</td>\n",
       "      <td>1.000000</td>\n",
       "      <td>0.000000</td>\n",
       "      <td>31.000000</td>\n",
       "    </tr>\n",
       "    <tr>\n",
       "      <th>max</th>\n",
       "      <td>891.000000</td>\n",
       "      <td>1.000000</td>\n",
       "      <td>3.000000</td>\n",
       "      <td>80.000000</td>\n",
       "      <td>8.000000</td>\n",
       "      <td>6.000000</td>\n",
       "      <td>512.329200</td>\n",
       "    </tr>\n",
       "  </tbody>\n",
       "</table>\n",
       "</div>"
      ],
      "text/plain": [
       "       PassengerId    Survived      Pclass         Age       SibSp  \\\n",
       "count   891.000000  891.000000  891.000000  714.000000  891.000000   \n",
       "mean    446.000000    0.383838    2.308642   29.699118    0.523008   \n",
       "std     257.353842    0.486592    0.836071   14.526497    1.102743   \n",
       "min       1.000000    0.000000    1.000000    0.420000    0.000000   \n",
       "25%     223.500000    0.000000    2.000000   20.125000    0.000000   \n",
       "50%     446.000000    0.000000    3.000000   28.000000    0.000000   \n",
       "75%     668.500000    1.000000    3.000000   38.000000    1.000000   \n",
       "max     891.000000    1.000000    3.000000   80.000000    8.000000   \n",
       "\n",
       "            Parch        Fare  \n",
       "count  891.000000  891.000000  \n",
       "mean     0.381594   32.204208  \n",
       "std      0.806057   49.693429  \n",
       "min      0.000000    0.000000  \n",
       "25%      0.000000    7.910400  \n",
       "50%      0.000000   14.454200  \n",
       "75%      0.000000   31.000000  \n",
       "max      6.000000  512.329200  "
      ]
     },
     "execution_count": 4,
     "metadata": {},
     "output_type": "execute_result"
    }
   ],
   "source": [
    "data_frame.describe()"
   ]
  },
  {
   "cell_type": "code",
   "execution_count": 5,
   "id": "d718ccc0-7346-4dc1-9b87-7463305f8a2e",
   "metadata": {},
   "outputs": [
    {
     "data": {
      "text/plain": [
       "PassengerId      0\n",
       "Survived         0\n",
       "Pclass           0\n",
       "Name             0\n",
       "Sex              0\n",
       "Age            177\n",
       "SibSp            0\n",
       "Parch            0\n",
       "Ticket           0\n",
       "Fare             0\n",
       "Cabin          687\n",
       "Embarked         2\n",
       "dtype: int64"
      ]
     },
     "execution_count": 5,
     "metadata": {},
     "output_type": "execute_result"
    }
   ],
   "source": [
    "data_frame.isna().sum()"
   ]
  },
  {
   "cell_type": "code",
   "execution_count": 8,
   "id": "cf526c86-c347-4067-96bf-e2ea37ca4250",
   "metadata": {},
   "outputs": [],
   "source": [
    "from matplotlib import pyplot as plt"
   ]
  },
  {
   "cell_type": "markdown",
   "id": "5685b70d-f0aa-4344-8e3e-cfb554efe4a5",
   "metadata": {},
   "source": [
    "**Because we have to much Cabin NaN values we will drop that column, this is not case with Age we are going to fill NaN values with median**"
   ]
  },
  {
   "cell_type": "code",
   "execution_count": 6,
   "id": "80d2ea74-df6b-4e89-84a3-ce6860c0b8d1",
   "metadata": {},
   "outputs": [],
   "source": [
    "from scipy.stats import norm"
   ]
  },
  {
   "cell_type": "code",
   "execution_count": 9,
   "id": "eca2691c-08ae-484b-99bc-0ff0feec08c4",
   "metadata": {},
   "outputs": [
    {
     "data": {
      "image/png": "[encoded data removed]",
      "text/plain": [
       "<Figure size 640x480 with 1 Axes>"
      ]
     },
     "metadata": {},
     "output_type": "display_data"
    }
   ],
   "source": [
    "Y = data_frame['Age'].values\n",
    "\n",
    "# Izračunajte histogram za niz\n",
    "freq, bins, _ = plt.hist(Y, edgecolor='white', bins=30, density=True) # Postavite density=True za normalizaciju histograma\n",
    "\n",
    "# Izračunajte parametre normalne raspodele na osnovu podataka\n",
    "mu, sigma = np.mean(Y), np.std(Y)\n",
    "\n",
    "# Generišite tačke za crtanje funkcije normalne raspodele\n",
    "x = np.linspace(min(bins), max(bins), 100)\n",
    "pdf = norm.pdf(x, mu, sigma)\n",
    "\n",
    "# Nacrtajte histogram i funkciju normalne raspodele\n"
   ]
  },
  {
   "cell_type": "code",
   "execution_count": 11,
   "id": "d1e50497-0886-4fcc-b854-fefd0a8082a1",
   "metadata": {},
   "outputs": [
    {
     "data": {
      "image/png": "[encoded data removed]",
      "text/plain": [
       "<Figure size 640x480 with 1 Axes>"
      ]
     },
     "metadata": {},
     "output_type": "display_data"
    }
   ],
   "source": [
    "freq, bins, _ = plt.hist(Y, edgecolor='white', bins=2)\n",
    "\n",
    "bin_centers = np.diff(bins)*0.5 + bins[:-1] # računanje centra korpice\n",
    "\n",
    "for fr, x in zip(freq, bin_centers):\n",
    "    height = int(fr)\n",
    "    plt.annotate(\"{}\".format(height),\n",
    "               xy = (x, height),             # poziciranje broja iznad korpice\n",
    "               xytext = (0,0.2),             # odvajanje teksta od korpice\n",
    "               textcoords = \"offset points\", \n",
    "               ha = 'center', va = 'bottom'\n",
    "               )"
   ]
  },
  {
   "cell_type": "code",
   "execution_count": null,
   "id": "52c2965c-49c2-4bac-9568-80996dd92d6b",
   "metadata": {},
   "outputs": [],
   "source": [
    "from sklearn.preprocessing import OrdinalEncoder"
   ]
  },
  {
   "cell_type": "code",
   "execution_count": null,
   "id": "375f1f10-4599-46c3-9715-5d7643858e79",
   "metadata": {},
   "outputs": [],
   "source": [
    "def std(data_frame):\n",
    "    encoder = OrdinalEncoder()\n",
    "    encoder.fit(data_frame[['Name', 'Sex', 'Cabin', 'Embarked', 'Ticket']])\n",
    "    encoded_data = encoder.transform(data_frame[['Name', 'Sex', 'Cabin', 'Embarked', 'Ticket']])\n",
    "    \n",
    "    data = pd.DataFrame(encoded_data)\n",
    "    data_frame['Name'] = data.iloc[:, 0]\n",
    "    data_frame['Sex'] = data.iloc[:, 1]\n",
    "    data_frame['Cabin'] = data.iloc[:, 2]\n",
    "    data_frame['Embarked'] = data.iloc[:, 3]\n",
    "    data_frame['Ticket'] = data.iloc[:, 4]\n",
    "    \n",
    "    age_mean = data_frame['Age'].mean()\n",
    "    data_frame['Age'] = data_frame['Age'].fillna(age_mean)\n",
    "    embark_mean = data_frame['Embarked'].mean()\n",
    "    data_frame['Embarked'] = data_frame['Embarked'].fillna(embark_mean)\n",
    "\n",
    "    \n",
    "    data_frame = data_frame.drop(['Cabin', 'PassengerId'], axis=1) #EMB TODO\n",
    "    #data_frame.dropna(inplace=True)\n",
    "    \n",
    "   # from sklearn.preprocessing import StandardScaler\n",
    "   # scaler = StandardScaler()\n",
    "   # data_frame['Name'] = scaler.fit_transform(data_frame[['Name']])\n",
    "   # data_frame['Age'] = scaler.fit_transform(data_frame[['Age']])\n",
    "   # data_frame['Ticket'] = scaler.fit_transform(data_frame[['Ticket']])\n",
    "   # data_frame['Fare'] = scaler.fit_transform(data_frame[['Fare']])\n",
    "    return data_frame"
   ]
  },
  {
   "cell_type": "code",
   "execution_count": null,
   "id": "06589e48-16f9-44ae-b1ca-cafc837f20a3",
   "metadata": {},
   "outputs": [],
   "source": [
    "data_frame = std(data_frame)\n",
    "data_frame"
   ]
  },
  {
   "cell_type": "code",
   "execution_count": null,
   "id": "1fd47e54-a456-4fda-a7a6-cfabcdaa3ece",
   "metadata": {},
   "outputs": [],
   "source": [
    "Y = data_frame['Age'].values\n",
    "\n",
    "# Izračunajte histogram za niz\n",
    "freq, bins, _ = plt.hist(Y, edgecolor='white', bins=30, density=True) # Postavite density=True za normalizaciju histograma\n",
    "\n",
    "# Izračunajte parametre normalne raspodele na osnovu podataka\n",
    "mu, sigma = np.mean(Y), np.std(Y)\n",
    "\n",
    "# Generišite tačke za crtanje funkcije normalne raspodele\n",
    "x = np.linspace(min(bins), max(bins), 100)\n",
    "pdf = norm.pdf(x, mu, sigma)\n",
    "\n",
    "# Nacrtajte histogram i funkciju normalne raspodele\n",
    "plt.plot(x, pdf, label='Normalna raspodela', color='red')"
   ]
  },
  {
   "cell_type": "markdown",
   "id": "40fca085-3b03-419e-b121-09e0a5c269cd",
   "metadata": {},
   "source": [
    "***We want to train and determine which hyperparameters are best for our model without peeking into the test set because we aim to prevent overfitting. Therefore, we will perform a train/test split to identify the optimal hyperparameters***"
   ]
  },
  {
   "cell_type": "code",
   "execution_count": 95,
   "id": "5506b086-595b-42a2-bfbf-417ef666465e",
   "metadata": {},
   "outputs": [],
   "source": [
    "from sklearn.model_selection import train_test_split"
   ]
  },
  {
   "cell_type": "code",
   "execution_count": 96,
   "id": "a9d38b2a-bfe6-4072-9d8d-32d9080218b2",
   "metadata": {},
   "outputs": [],
   "source": [
    "X = data_frame.drop('Survived', axis=1)"
   ]
  },
  {
   "cell_type": "code",
   "execution_count": 97,
   "id": "9f5391f8-51f8-4b5b-8f09-60dc327f28df",
   "metadata": {},
   "outputs": [],
   "source": [
    "Y = data_frame['Survived']"
   ]
  },
  {
   "cell_type": "code",
   "execution_count": 98,
   "id": "64bb1621-5f1d-48cd-bd6d-489475d46a09",
   "metadata": {},
   "outputs": [],
   "source": [
    "X_train, X_test, Y_train, Y_test = train_test_split(X, Y, stratify=Y, train_size=0.75)"
   ]
  },
  {
   "cell_type": "code",
   "execution_count": 99,
   "id": "24ac96ef-51da-4208-b2bb-b0a2bf0cab84",
   "metadata": {},
   "outputs": [
    {
     "data": {
      "text/plain": [
       "(668, 9)"
      ]
     },
     "execution_count": 99,
     "metadata": {},
     "output_type": "execute_result"
    }
   ],
   "source": [
    "X_train.shape"
   ]
  },
  {
   "cell_type": "code",
   "execution_count": 100,
   "id": "1e4e549a-5644-4543-ad16-0c7dbe28eddd",
   "metadata": {},
   "outputs": [
    {
     "data": {
      "text/plain": [
       "(668,)"
      ]
     },
     "execution_count": 100,
     "metadata": {},
     "output_type": "execute_result"
    }
   ],
   "source": [
    "Y_train.shape"
   ]
  },
  {
   "cell_type": "code",
   "execution_count": 101,
   "id": "470ff1e1-ed4c-4b7b-af10-a152ef020a5c",
   "metadata": {
    "scrolled": true
   },
   "outputs": [
    {
     "data": {
      "text/html": [
       "<div>\n",
       "<style scoped>\n",
       "    .dataframe tbody tr th:only-of-type {\n",
       "        vertical-align: middle;\n",
       "    }\n",
       "\n",
       "    .dataframe tbody tr th {\n",
       "        vertical-align: top;\n",
       "    }\n",
       "\n",
       "    .dataframe thead th {\n",
       "        text-align: right;\n",
       "    }\n",
       "</style>\n",
       "<table border=\"1\" class=\"dataframe\">\n",
       "  <thead>\n",
       "    <tr style=\"text-align: right;\">\n",
       "      <th></th>\n",
       "      <th>Pclass</th>\n",
       "      <th>Name</th>\n",
       "      <th>Sex</th>\n",
       "      <th>Age</th>\n",
       "      <th>SibSp</th>\n",
       "      <th>Parch</th>\n",
       "      <th>Ticket</th>\n",
       "      <th>Fare</th>\n",
       "      <th>Embarked</th>\n",
       "    </tr>\n",
       "  </thead>\n",
       "  <tbody>\n",
       "    <tr>\n",
       "      <th>241</th>\n",
       "      <td>3</td>\n",
       "      <td>567.0</td>\n",
       "      <td>0.0</td>\n",
       "      <td>29.699118</td>\n",
       "      <td>1</td>\n",
       "      <td>0</td>\n",
       "      <td>444.0</td>\n",
       "      <td>15.5000</td>\n",
       "      <td>1.0</td>\n",
       "    </tr>\n",
       "    <tr>\n",
       "      <th>652</th>\n",
       "      <td>3</td>\n",
       "      <td>421.0</td>\n",
       "      <td>1.0</td>\n",
       "      <td>21.000000</td>\n",
       "      <td>0</td>\n",
       "      <td>0</td>\n",
       "      <td>512.0</td>\n",
       "      <td>8.4333</td>\n",
       "      <td>2.0</td>\n",
       "    </tr>\n",
       "    <tr>\n",
       "      <th>386</th>\n",
       "      <td>3</td>\n",
       "      <td>298.0</td>\n",
       "      <td>1.0</td>\n",
       "      <td>1.000000</td>\n",
       "      <td>5</td>\n",
       "      <td>2</td>\n",
       "      <td>566.0</td>\n",
       "      <td>46.9000</td>\n",
       "      <td>2.0</td>\n",
       "    </tr>\n",
       "    <tr>\n",
       "      <th>636</th>\n",
       "      <td>3</td>\n",
       "      <td>469.0</td>\n",
       "      <td>1.0</td>\n",
       "      <td>32.000000</td>\n",
       "      <td>0</td>\n",
       "      <td>0</td>\n",
       "      <td>664.0</td>\n",
       "      <td>7.9250</td>\n",
       "      <td>2.0</td>\n",
       "    </tr>\n",
       "    <tr>\n",
       "      <th>596</th>\n",
       "      <td>2</td>\n",
       "      <td>470.0</td>\n",
       "      <td>0.0</td>\n",
       "      <td>29.699118</td>\n",
       "      <td>0</td>\n",
       "      <td>0</td>\n",
       "      <td>155.0</td>\n",
       "      <td>33.0000</td>\n",
       "      <td>2.0</td>\n",
       "    </tr>\n",
       "  </tbody>\n",
       "</table>\n",
       "</div>"
      ],
      "text/plain": [
       "     Pclass   Name  Sex        Age  SibSp  Parch  Ticket     Fare  Embarked\n",
       "241       3  567.0  0.0  29.699118      1      0   444.0  15.5000       1.0\n",
       "652       3  421.0  1.0  21.000000      0      0   512.0   8.4333       2.0\n",
       "386       3  298.0  1.0   1.000000      5      2   566.0  46.9000       2.0\n",
       "636       3  469.0  1.0  32.000000      0      0   664.0   7.9250       2.0\n",
       "596       2  470.0  0.0  29.699118      0      0   155.0  33.0000       2.0"
      ]
     },
     "execution_count": 101,
     "metadata": {},
     "output_type": "execute_result"
    }
   ],
   "source": [
    "X_train.head()"
   ]
  },
  {
   "cell_type": "code",
   "execution_count": 102,
   "id": "34f87676-3578-46bd-8700-879ac15c30bb",
   "metadata": {},
   "outputs": [
    {
     "data": {
      "text/html": [
       "<div>\n",
       "<style scoped>\n",
       "    .dataframe tbody tr th:only-of-type {\n",
       "        vertical-align: middle;\n",
       "    }\n",
       "\n",
       "    .dataframe tbody tr th {\n",
       "        vertical-align: top;\n",
       "    }\n",
       "\n",
       "    .dataframe thead th {\n",
       "        text-align: right;\n",
       "    }\n",
       "</style>\n",
       "<table border=\"1\" class=\"dataframe\">\n",
       "  <thead>\n",
       "    <tr style=\"text-align: right;\">\n",
       "      <th></th>\n",
       "      <th>Pclass</th>\n",
       "      <th>Name</th>\n",
       "      <th>Sex</th>\n",
       "      <th>Age</th>\n",
       "      <th>SibSp</th>\n",
       "      <th>Parch</th>\n",
       "      <th>Ticket</th>\n",
       "      <th>Fare</th>\n",
       "      <th>Embarked</th>\n",
       "    </tr>\n",
       "  </thead>\n",
       "  <tbody>\n",
       "    <tr>\n",
       "      <th>count</th>\n",
       "      <td>668.000000</td>\n",
       "      <td>668.000000</td>\n",
       "      <td>668.000000</td>\n",
       "      <td>668.000000</td>\n",
       "      <td>668.000000</td>\n",
       "      <td>668.000000</td>\n",
       "      <td>668.000000</td>\n",
       "      <td>668.000000</td>\n",
       "      <td>668.000000</td>\n",
       "    </tr>\n",
       "    <tr>\n",
       "      <th>mean</th>\n",
       "      <td>2.293413</td>\n",
       "      <td>440.303892</td>\n",
       "      <td>0.652695</td>\n",
       "      <td>29.888980</td>\n",
       "      <td>0.516467</td>\n",
       "      <td>0.365269</td>\n",
       "      <td>336.700599</td>\n",
       "      <td>32.433246</td>\n",
       "      <td>1.534431</td>\n",
       "    </tr>\n",
       "    <tr>\n",
       "      <th>std</th>\n",
       "      <td>0.838084</td>\n",
       "      <td>260.254250</td>\n",
       "      <td>0.476471</td>\n",
       "      <td>13.128510</td>\n",
       "      <td>1.053885</td>\n",
       "      <td>0.796238</td>\n",
       "      <td>200.646280</td>\n",
       "      <td>51.036057</td>\n",
       "      <td>0.793724</td>\n",
       "    </tr>\n",
       "    <tr>\n",
       "      <th>min</th>\n",
       "      <td>1.000000</td>\n",
       "      <td>0.000000</td>\n",
       "      <td>0.000000</td>\n",
       "      <td>0.420000</td>\n",
       "      <td>0.000000</td>\n",
       "      <td>0.000000</td>\n",
       "      <td>0.000000</td>\n",
       "      <td>0.000000</td>\n",
       "      <td>0.000000</td>\n",
       "    </tr>\n",
       "    <tr>\n",
       "      <th>25%</th>\n",
       "      <td>2.000000</td>\n",
       "      <td>211.750000</td>\n",
       "      <td>0.000000</td>\n",
       "      <td>22.000000</td>\n",
       "      <td>0.000000</td>\n",
       "      <td>0.000000</td>\n",
       "      <td>157.750000</td>\n",
       "      <td>7.925000</td>\n",
       "      <td>1.000000</td>\n",
       "    </tr>\n",
       "    <tr>\n",
       "      <th>50%</th>\n",
       "      <td>3.000000</td>\n",
       "      <td>437.000000</td>\n",
       "      <td>1.000000</td>\n",
       "      <td>29.699118</td>\n",
       "      <td>0.000000</td>\n",
       "      <td>0.000000</td>\n",
       "      <td>333.000000</td>\n",
       "      <td>15.022900</td>\n",
       "      <td>2.000000</td>\n",
       "    </tr>\n",
       "    <tr>\n",
       "      <th>75%</th>\n",
       "      <td>3.000000</td>\n",
       "      <td>670.250000</td>\n",
       "      <td>1.000000</td>\n",
       "      <td>35.000000</td>\n",
       "      <td>1.000000</td>\n",
       "      <td>0.000000</td>\n",
       "      <td>515.500000</td>\n",
       "      <td>31.068750</td>\n",
       "      <td>2.000000</td>\n",
       "    </tr>\n",
       "    <tr>\n",
       "      <th>max</th>\n",
       "      <td>3.000000</td>\n",
       "      <td>890.000000</td>\n",
       "      <td>1.000000</td>\n",
       "      <td>80.000000</td>\n",
       "      <td>8.000000</td>\n",
       "      <td>6.000000</td>\n",
       "      <td>680.000000</td>\n",
       "      <td>512.329200</td>\n",
       "      <td>2.000000</td>\n",
       "    </tr>\n",
       "  </tbody>\n",
       "</table>\n",
       "</div>"
      ],
      "text/plain": [
       "           Pclass        Name         Sex         Age       SibSp       Parch  \\\n",
       "count  668.000000  668.000000  668.000000  668.000000  668.000000  668.000000   \n",
       "mean     2.293413  440.303892    0.652695   29.888980    0.516467    0.365269   \n",
       "std      0.838084  260.254250    0.476471   13.128510    1.053885    0.796238   \n",
       "min      1.000000    0.000000    0.000000    0.420000    0.000000    0.000000   \n",
       "25%      2.000000  211.750000    0.000000   22.000000    0.000000    0.000000   \n",
       "50%      3.000000  437.000000    1.000000   29.699118    0.000000    0.000000   \n",
       "75%      3.000000  670.250000    1.000000   35.000000    1.000000    0.000000   \n",
       "max      3.000000  890.000000    1.000000   80.000000    8.000000    6.000000   \n",
       "\n",
       "           Ticket        Fare    Embarked  \n",
       "count  668.000000  668.000000  668.000000  \n",
       "mean   336.700599   32.433246    1.534431  \n",
       "std    200.646280   51.036057    0.793724  \n",
       "min      0.000000    0.000000    0.000000  \n",
       "25%    157.750000    7.925000    1.000000  \n",
       "50%    333.000000   15.022900    2.000000  \n",
       "75%    515.500000   31.068750    2.000000  \n",
       "max    680.000000  512.329200    2.000000  "
      ]
     },
     "execution_count": 102,
     "metadata": {},
     "output_type": "execute_result"
    }
   ],
   "source": [
    "X_train.describe()"
   ]
  },
  {
   "cell_type": "code",
   "execution_count": 103,
   "id": "4964d553-cae4-4f9e-a030-9d3560793cc6",
   "metadata": {
    "scrolled": true
   },
   "outputs": [
    {
     "data": {
      "text/plain": [
       "Pclass      0\n",
       "Name        0\n",
       "Sex         0\n",
       "Age         0\n",
       "SibSp       0\n",
       "Parch       0\n",
       "Ticket      0\n",
       "Fare        0\n",
       "Embarked    0\n",
       "dtype: int64"
      ]
     },
     "execution_count": 103,
     "metadata": {},
     "output_type": "execute_result"
    }
   ],
   "source": [
    "X_train.isna().sum()"
   ]
  },
  {
   "cell_type": "code",
   "execution_count": 104,
   "id": "8a01ebed-a1b9-4c4d-8f07-50a1ac77d9dc",
   "metadata": {},
   "outputs": [],
   "source": [
    "from sklearn.metrics import accuracy_score, f1_score"
   ]
  },
  {
   "cell_type": "code",
   "execution_count": 105,
   "id": "4114b81d-7d44-48e3-afa6-cf14abe22e7b",
   "metadata": {},
   "outputs": [],
   "source": [
    "from sklearn.tree import DecisionTreeClassifier"
   ]
  },
  {
   "cell_type": "code",
   "execution_count": 106,
   "id": "a0e1c673-858f-4b48-a1c5-9f1e1416e12d",
   "metadata": {},
   "outputs": [],
   "source": [
    "def decisionModel(X_train, Y_train, n):\n",
    "    dmodel = DecisionTreeClassifier(max_depth=n)\n",
    "    dmodel.fit(X_train, Y_train)\n",
    "   # predict1 = dmodel.predict(X_test)\n",
    "   # print(accuracy_score(Y_test, predict1), f1_score(Y_test, predict1))\n",
    "    return dmodel"
   ]
  },
  {
   "cell_type": "code",
   "execution_count": 107,
   "id": "00fce02a-8c5e-4e10-9c07-d3fda660ebb1",
   "metadata": {},
   "outputs": [],
   "source": [
    "#dmodel = decisionModel(X, Y)"
   ]
  },
  {
   "cell_type": "markdown",
   "id": "21b44b64-0d61-463d-9f72-b644cf25ad26",
   "metadata": {},
   "source": [
    "**After this for loop we will have the best depth for our tree**"
   ]
  },
  {
   "cell_type": "code",
   "execution_count": 108,
   "id": "d541c79d-32b6-4ebb-89b9-caac025019d2",
   "metadata": {},
   "outputs": [
    {
     "name": "stdout",
     "output_type": "stream",
     "text": [
      "0.8116591928251121\n",
      "0.7982062780269058\n",
      "0.8071748878923767\n",
      "0.820627802690583\n",
      "0.8026905829596412\n",
      "0.7847533632286996\n",
      "0.7937219730941704\n",
      "0.7937219730941704\n",
      "0.7802690582959642\n",
      "0.7847533632286996\n",
      "0.7713004484304933\n",
      "0.7982062780269058\n",
      "0.7623318385650224\n",
      "0.7847533632286996\n"
     ]
    }
   ],
   "source": [
    "n = 0\n",
    "best_ac = 0\n",
    "for i in range(1, 15):\n",
    "    dmodel = decisionModel(X_train, Y_train, i)\n",
    "    predict1 = dmodel.predict(X_test)\n",
    "    if accuracy_score(Y_test, predict1) > best_ac:\n",
    "        best_ac = accuracy_score(Y_test, predict1)\n",
    "        n = i     \n",
    "    print(accuracy_score(Y_test, predict1))"
   ]
  },
  {
   "cell_type": "code",
   "execution_count": 109,
   "id": "83c9db19-85a0-4b32-a5d0-e602700a6828",
   "metadata": {},
   "outputs": [],
   "source": [
    "#from sklearn.linear_model import LinearRegression"
   ]
  },
  {
   "cell_type": "code",
   "execution_count": 110,
   "id": "0743e177-dde0-4a92-aade-721e9f3b557d",
   "metadata": {},
   "outputs": [],
   "source": [
    "#lmodel = LinearRegression()\n",
    "#lmodel.fit(X_train, Y_train)\n",
    "#predict = lmodel.predict(X_test)\n",
    "#pmin = predict.min()\n",
    "#pmax = predict.max()\n",
    "#predict = (predict-pmin)/(pmax-pmin)\n",
    "#predict = np.where(predict < 0.5 , 0 , 1)\n",
    "#print(accuracy_score(Y_test, predict), f1_score(Y_test, predict))"
   ]
  },
  {
   "cell_type": "markdown",
   "id": "dd9f51b5-f4ab-428e-b728-819080a24e51",
   "metadata": {},
   "source": [
    "**Now we will train our model on whole data with best parameters**"
   ]
  },
  {
   "cell_type": "code",
   "execution_count": 111,
   "id": "d0479065-1cb5-4f8f-8704-a2e213cc4870",
   "metadata": {},
   "outputs": [],
   "source": [
    "finalModel = decisionModel(X, Y, n)"
   ]
  },
  {
   "cell_type": "code",
   "execution_count": 112,
   "id": "2e11e4d6-28eb-4cb0-b0c9-2acd150b7754",
   "metadata": {},
   "outputs": [
    {
     "name": "stdout",
     "output_type": "stream",
     "text": [
      "(418, 11)\n"
     ]
    }
   ],
   "source": [
    "test_df = pd.read_csv(\"./test.csv\")\n",
    "#print(test_df.head())\n",
    "print(test_df.shape)\n",
    "passId = test_df['PassengerId']\n",
    "test_df = std(test_df)\n"
   ]
  },
  {
   "cell_type": "code",
   "execution_count": 113,
   "id": "5d120e36-9d2a-4eae-be8d-7351cde8b5ee",
   "metadata": {},
   "outputs": [
    {
     "data": {
      "text/html": [
       "<div>\n",
       "<style scoped>\n",
       "    .dataframe tbody tr th:only-of-type {\n",
       "        vertical-align: middle;\n",
       "    }\n",
       "\n",
       "    .dataframe tbody tr th {\n",
       "        vertical-align: top;\n",
       "    }\n",
       "\n",
       "    .dataframe thead th {\n",
       "        text-align: right;\n",
       "    }\n",
       "</style>\n",
       "<table border=\"1\" class=\"dataframe\">\n",
       "  <thead>\n",
       "    <tr style=\"text-align: right;\">\n",
       "      <th></th>\n",
       "      <th>Pclass</th>\n",
       "      <th>Name</th>\n",
       "      <th>Sex</th>\n",
       "      <th>Age</th>\n",
       "      <th>SibSp</th>\n",
       "      <th>Parch</th>\n",
       "      <th>Ticket</th>\n",
       "      <th>Fare</th>\n",
       "      <th>Embarked</th>\n",
       "    </tr>\n",
       "  </thead>\n",
       "  <tbody>\n",
       "    <tr>\n",
       "      <th>0</th>\n",
       "      <td>3</td>\n",
       "      <td>206.0</td>\n",
       "      <td>1.0</td>\n",
       "      <td>34.50000</td>\n",
       "      <td>0</td>\n",
       "      <td>0</td>\n",
       "      <td>152.0</td>\n",
       "      <td>7.8292</td>\n",
       "      <td>1.0</td>\n",
       "    </tr>\n",
       "    <tr>\n",
       "      <th>1</th>\n",
       "      <td>3</td>\n",
       "      <td>403.0</td>\n",
       "      <td>0.0</td>\n",
       "      <td>47.00000</td>\n",
       "      <td>1</td>\n",
       "      <td>0</td>\n",
       "      <td>221.0</td>\n",
       "      <td>7.0000</td>\n",
       "      <td>2.0</td>\n",
       "    </tr>\n",
       "    <tr>\n",
       "      <th>2</th>\n",
       "      <td>2</td>\n",
       "      <td>269.0</td>\n",
       "      <td>1.0</td>\n",
       "      <td>62.00000</td>\n",
       "      <td>0</td>\n",
       "      <td>0</td>\n",
       "      <td>73.0</td>\n",
       "      <td>9.6875</td>\n",
       "      <td>1.0</td>\n",
       "    </tr>\n",
       "    <tr>\n",
       "      <th>3</th>\n",
       "      <td>3</td>\n",
       "      <td>408.0</td>\n",
       "      <td>1.0</td>\n",
       "      <td>27.00000</td>\n",
       "      <td>0</td>\n",
       "      <td>0</td>\n",
       "      <td>147.0</td>\n",
       "      <td>8.6625</td>\n",
       "      <td>2.0</td>\n",
       "    </tr>\n",
       "    <tr>\n",
       "      <th>4</th>\n",
       "      <td>3</td>\n",
       "      <td>178.0</td>\n",
       "      <td>0.0</td>\n",
       "      <td>22.00000</td>\n",
       "      <td>1</td>\n",
       "      <td>1</td>\n",
       "      <td>138.0</td>\n",
       "      <td>12.2875</td>\n",
       "      <td>2.0</td>\n",
       "    </tr>\n",
       "    <tr>\n",
       "      <th>...</th>\n",
       "      <td>...</td>\n",
       "      <td>...</td>\n",
       "      <td>...</td>\n",
       "      <td>...</td>\n",
       "      <td>...</td>\n",
       "      <td>...</td>\n",
       "      <td>...</td>\n",
       "      <td>...</td>\n",
       "      <td>...</td>\n",
       "    </tr>\n",
       "    <tr>\n",
       "      <th>413</th>\n",
       "      <td>3</td>\n",
       "      <td>353.0</td>\n",
       "      <td>1.0</td>\n",
       "      <td>30.27259</td>\n",
       "      <td>0</td>\n",
       "      <td>0</td>\n",
       "      <td>267.0</td>\n",
       "      <td>8.0500</td>\n",
       "      <td>2.0</td>\n",
       "    </tr>\n",
       "    <tr>\n",
       "      <th>414</th>\n",
       "      <td>1</td>\n",
       "      <td>283.0</td>\n",
       "      <td>0.0</td>\n",
       "      <td>39.00000</td>\n",
       "      <td>0</td>\n",
       "      <td>0</td>\n",
       "      <td>324.0</td>\n",
       "      <td>108.9000</td>\n",
       "      <td>0.0</td>\n",
       "    </tr>\n",
       "    <tr>\n",
       "      <th>415</th>\n",
       "      <td>3</td>\n",
       "      <td>332.0</td>\n",
       "      <td>1.0</td>\n",
       "      <td>38.50000</td>\n",
       "      <td>0</td>\n",
       "      <td>0</td>\n",
       "      <td>346.0</td>\n",
       "      <td>7.2500</td>\n",
       "      <td>2.0</td>\n",
       "    </tr>\n",
       "    <tr>\n",
       "      <th>416</th>\n",
       "      <td>3</td>\n",
       "      <td>384.0</td>\n",
       "      <td>1.0</td>\n",
       "      <td>30.27259</td>\n",
       "      <td>0</td>\n",
       "      <td>0</td>\n",
       "      <td>220.0</td>\n",
       "      <td>8.0500</td>\n",
       "      <td>2.0</td>\n",
       "    </tr>\n",
       "    <tr>\n",
       "      <th>417</th>\n",
       "      <td>3</td>\n",
       "      <td>302.0</td>\n",
       "      <td>1.0</td>\n",
       "      <td>30.27259</td>\n",
       "      <td>1</td>\n",
       "      <td>1</td>\n",
       "      <td>105.0</td>\n",
       "      <td>22.3583</td>\n",
       "      <td>0.0</td>\n",
       "    </tr>\n",
       "  </tbody>\n",
       "</table>\n",
       "<p>418 rows × 9 columns</p>\n",
       "</div>"
      ],
      "text/plain": [
       "     Pclass   Name  Sex       Age  SibSp  Parch  Ticket      Fare  Embarked\n",
       "0         3  206.0  1.0  34.50000      0      0   152.0    7.8292       1.0\n",
       "1         3  403.0  0.0  47.00000      1      0   221.0    7.0000       2.0\n",
       "2         2  269.0  1.0  62.00000      0      0    73.0    9.6875       1.0\n",
       "3         3  408.0  1.0  27.00000      0      0   147.0    8.6625       2.0\n",
       "4         3  178.0  0.0  22.00000      1      1   138.0   12.2875       2.0\n",
       "..      ...    ...  ...       ...    ...    ...     ...       ...       ...\n",
       "413       3  353.0  1.0  30.27259      0      0   267.0    8.0500       2.0\n",
       "414       1  283.0  0.0  39.00000      0      0   324.0  108.9000       0.0\n",
       "415       3  332.0  1.0  38.50000      0      0   346.0    7.2500       2.0\n",
       "416       3  384.0  1.0  30.27259      0      0   220.0    8.0500       2.0\n",
       "417       3  302.0  1.0  30.27259      1      1   105.0   22.3583       0.0\n",
       "\n",
       "[418 rows x 9 columns]"
      ]
     },
     "execution_count": 113,
     "metadata": {},
     "output_type": "execute_result"
    }
   ],
   "source": [
    "test_df"
   ]
  },
  {
   "cell_type": "code",
   "execution_count": 114,
   "id": "46f27988-ac64-46e3-828d-c62b0bff921a",
   "metadata": {},
   "outputs": [],
   "source": [
    "pr = finalModel.predict(test_df)"
   ]
  },
  {
   "cell_type": "code",
   "execution_count": 116,
   "id": "2d800e4c-a9b5-4482-bc94-6df9d7bc78b2",
   "metadata": {},
   "outputs": [
    {
     "data": {
      "text/plain": [
       "Text(0.5, 1.0, 'Feature importance')"
      ]
     },
     "execution_count": 116,
     "metadata": {},
     "output_type": "execute_result"
    },
    {
     "data": {
      "image/png": "[encoded data removed]",
      "text/plain": [
       "<Figure size 640x480 with 1 Axes>"
      ]
     },
     "metadata": {},
     "output_type": "display_data"
    }
   ],
   "source": [
    "pd.Series(finalModel.feature_importances_, index=X.columns).plot.barh()\n",
    "plt.title(\"Feature importance\")"
   ]
  },
  {
   "cell_type": "code",
   "execution_count": 117,
   "id": "0ba7d707-d551-47eb-a504-64a3252640de",
   "metadata": {},
   "outputs": [
    {
     "data": {
      "text/html": [
       "<div>\n",
       "<style scoped>\n",
       "    .dataframe tbody tr th:only-of-type {\n",
       "        vertical-align: middle;\n",
       "    }\n",
       "\n",
       "    .dataframe tbody tr th {\n",
       "        vertical-align: top;\n",
       "    }\n",
       "\n",
       "    .dataframe thead th {\n",
       "        text-align: right;\n",
       "    }\n",
       "</style>\n",
       "<table border=\"1\" class=\"dataframe\">\n",
       "  <thead>\n",
       "    <tr style=\"text-align: right;\">\n",
       "      <th></th>\n",
       "      <th>Survived</th>\n",
       "      <th>PassengerId</th>\n",
       "    </tr>\n",
       "  </thead>\n",
       "  <tbody>\n",
       "    <tr>\n",
       "      <th>0</th>\n",
       "      <td>0</td>\n",
       "      <td>892</td>\n",
       "    </tr>\n",
       "    <tr>\n",
       "      <th>1</th>\n",
       "      <td>0</td>\n",
       "      <td>893</td>\n",
       "    </tr>\n",
       "    <tr>\n",
       "      <th>2</th>\n",
       "      <td>0</td>\n",
       "      <td>894</td>\n",
       "    </tr>\n",
       "    <tr>\n",
       "      <th>3</th>\n",
       "      <td>0</td>\n",
       "      <td>895</td>\n",
       "    </tr>\n",
       "    <tr>\n",
       "      <th>4</th>\n",
       "      <td>1</td>\n",
       "      <td>896</td>\n",
       "    </tr>\n",
       "    <tr>\n",
       "      <th>...</th>\n",
       "      <td>...</td>\n",
       "      <td>...</td>\n",
       "    </tr>\n",
       "    <tr>\n",
       "      <th>413</th>\n",
       "      <td>0</td>\n",
       "      <td>1305</td>\n",
       "    </tr>\n",
       "    <tr>\n",
       "      <th>414</th>\n",
       "      <td>1</td>\n",
       "      <td>1306</td>\n",
       "    </tr>\n",
       "    <tr>\n",
       "      <th>415</th>\n",
       "      <td>0</td>\n",
       "      <td>1307</td>\n",
       "    </tr>\n",
       "    <tr>\n",
       "      <th>416</th>\n",
       "      <td>0</td>\n",
       "      <td>1308</td>\n",
       "    </tr>\n",
       "    <tr>\n",
       "      <th>417</th>\n",
       "      <td>0</td>\n",
       "      <td>1309</td>\n",
       "    </tr>\n",
       "  </tbody>\n",
       "</table>\n",
       "<p>418 rows × 2 columns</p>\n",
       "</div>"
      ],
      "text/plain": [
       "     Survived  PassengerId\n",
       "0           0          892\n",
       "1           0          893\n",
       "2           0          894\n",
       "3           0          895\n",
       "4           1          896\n",
       "..        ...          ...\n",
       "413         0         1305\n",
       "414         1         1306\n",
       "415         0         1307\n",
       "416         0         1308\n",
       "417         0         1309\n",
       "\n",
       "[418 rows x 2 columns]"
      ]
     },
     "execution_count": 117,
     "metadata": {},
     "output_type": "execute_result"
    }
   ],
   "source": [
    "res_frame = pd.DataFrame(pr, columns= ['Survived'])\n",
    "res_frame['PassengerId'] = passId\n",
    "res_frame"
   ]
  },
  {
   "cell_type": "code",
   "execution_count": 118,
   "id": "88fcf114-7ed4-4d8b-9c33-8cbc053e2007",
   "metadata": {},
   "outputs": [],
   "source": [
    "res = pd.read_csv(\"./gender_submission.csv\")"
   ]
  },
  {
   "cell_type": "code",
   "execution_count": 119,
   "id": "c0bc7d9c-626e-45e5-a0d0-fcc584b8d7ba",
   "metadata": {},
   "outputs": [
    {
     "data": {
      "text/html": [
       "<div>\n",
       "<style scoped>\n",
       "    .dataframe tbody tr th:only-of-type {\n",
       "        vertical-align: middle;\n",
       "    }\n",
       "\n",
       "    .dataframe tbody tr th {\n",
       "        vertical-align: top;\n",
       "    }\n",
       "\n",
       "    .dataframe thead th {\n",
       "        text-align: right;\n",
       "    }\n",
       "</style>\n",
       "<table border=\"1\" class=\"dataframe\">\n",
       "  <thead>\n",
       "    <tr style=\"text-align: right;\">\n",
       "      <th></th>\n",
       "      <th>PassengerId</th>\n",
       "      <th>Survived</th>\n",
       "    </tr>\n",
       "  </thead>\n",
       "  <tbody>\n",
       "    <tr>\n",
       "      <th>0</th>\n",
       "      <td>892</td>\n",
       "      <td>0</td>\n",
       "    </tr>\n",
       "    <tr>\n",
       "      <th>1</th>\n",
       "      <td>893</td>\n",
       "      <td>1</td>\n",
       "    </tr>\n",
       "    <tr>\n",
       "      <th>2</th>\n",
       "      <td>894</td>\n",
       "      <td>0</td>\n",
       "    </tr>\n",
       "    <tr>\n",
       "      <th>3</th>\n",
       "      <td>895</td>\n",
       "      <td>0</td>\n",
       "    </tr>\n",
       "    <tr>\n",
       "      <th>4</th>\n",
       "      <td>896</td>\n",
       "      <td>1</td>\n",
       "    </tr>\n",
       "    <tr>\n",
       "      <th>...</th>\n",
       "      <td>...</td>\n",
       "      <td>...</td>\n",
       "    </tr>\n",
       "    <tr>\n",
       "      <th>413</th>\n",
       "      <td>1305</td>\n",
       "      <td>0</td>\n",
       "    </tr>\n",
       "    <tr>\n",
       "      <th>414</th>\n",
       "      <td>1306</td>\n",
       "      <td>1</td>\n",
       "    </tr>\n",
       "    <tr>\n",
       "      <th>415</th>\n",
       "      <td>1307</td>\n",
       "      <td>0</td>\n",
       "    </tr>\n",
       "    <tr>\n",
       "      <th>416</th>\n",
       "      <td>1308</td>\n",
       "      <td>0</td>\n",
       "    </tr>\n",
       "    <tr>\n",
       "      <th>417</th>\n",
       "      <td>1309</td>\n",
       "      <td>0</td>\n",
       "    </tr>\n",
       "  </tbody>\n",
       "</table>\n",
       "<p>418 rows × 2 columns</p>\n",
       "</div>"
      ],
      "text/plain": [
       "     PassengerId  Survived\n",
       "0            892         0\n",
       "1            893         1\n",
       "2            894         0\n",
       "3            895         0\n",
       "4            896         1\n",
       "..           ...       ...\n",
       "413         1305         0\n",
       "414         1306         1\n",
       "415         1307         0\n",
       "416         1308         0\n",
       "417         1309         0\n",
       "\n",
       "[418 rows x 2 columns]"
      ]
     },
     "execution_count": 119,
     "metadata": {},
     "output_type": "execute_result"
    }
   ],
   "source": [
    "res"
   ]
  },
  {
   "cell_type": "code",
   "execution_count": 122,
   "id": "0d5261ba-a8af-45a4-9fc8-2e946cddc672",
   "metadata": {},
   "outputs": [
    {
     "data": {
      "text/plain": [
       "0.8397129186602871"
      ]
     },
     "execution_count": 122,
     "metadata": {},
     "output_type": "execute_result"
    }
   ],
   "source": [
    "accuracy_score(res.iloc[:,1], res_frame.iloc[:,0])"
   ]
  },
  {
   "cell_type": "markdown",
   "id": "82a43639-3852-4b2f-8880-8ce4e66dba0f",
   "metadata": {},
   "source": [
    "***We got the 90% accuracy!***"
   ]
  },
  {
   "cell_type": "code",
   "execution_count": 123,
   "id": "2bfae6f3-a8c2-4ed3-a956-a8b34e1fa7a5",
   "metadata": {},
   "outputs": [],
   "source": [
    "res_frame.to_csv('res.csv', index=False)"
   ]
  },
  {
   "cell_type": "code",
   "execution_count": null,
   "id": "b76a4424-e169-41a8-a76f-7238377c58fb",
   "metadata": {},
   "outputs": [],
   "source": []
  }
 ],
 "metadata": {
  "kernelspec": {
   "display_name": "Python 3 (ipykernel)",
   "language": "python",
   "name": "python3"
  },
  "language_info": {
   "codemirror_mode": {
    "name": "ipython",
    "version": 3
   },
   "file_extension": ".py",
   "mimetype": "text/x-python",
   "name": "python",
   "nbconvert_exporter": "python",
   "pygments_lexer": "ipython3",
   "version": "3.12.3"
  }
 },
 "nbformat": 4,
 "nbformat_minor": 5
}
